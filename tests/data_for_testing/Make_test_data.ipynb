{
 "cells": [
  {
   "cell_type": "code",
   "execution_count": 1,
   "metadata": {
    "collapsed": true
   },
   "outputs": [],
   "source": [
    "import cluster_toolkit\n",
    "import numpy as np\n",
    "import matplotlib.pyplot as plt\n",
    "%matplotlib inline"
   ]
  },
  {
   "cell_type": "code",
   "execution_count": 2,
   "metadata": {
    "collapsed": true
   },
   "outputs": [],
   "source": [
    "M = 1e14\n",
    "c = 5\n",
    "Om = 0.3\n",
    "R = np.logspace(-2, 2.5, num=1000)"
   ]
  },
  {
   "cell_type": "code",
   "execution_count": 3,
   "metadata": {
    "collapsed": true
   },
   "outputs": [],
   "source": [
    "klin = np.loadtxt(\"klin.txt\")\n",
    "plin = np.loadtxt(\"plin.txt\")\n",
    "knl = np.loadtxt('knl.txt')\n",
    "pnl = np.loadtxt('pnl.txt')"
   ]
  },
  {
   "cell_type": "code",
   "execution_count": 4,
   "metadata": {
    "collapsed": true
   },
   "outputs": [],
   "source": [
    "from cluster_toolkit import xi\n",
    "from cluster_toolkit import bias\n",
    "xi_nfw = xi.xi_nfw_at_R(R, M, c, Om)\n",
    "xi_mm = xi.xi_mm_at_R(R, knl, pnl)\n",
    "bias = bias.bias_at_M(M, klin, plin, Om)\n",
    "xi_2h = bias*xi_mm\n",
    "xi_hm = xi.xi_hm(xi_nfw, xi_2h)\n",
    "np.savetxt(\"r3d.txt\", R)\n",
    "np.savetxt(\"xi_hm.txt\", xi_hm)"
   ]
  },
  {
   "cell_type": "code",
   "execution_count": null,
   "metadata": {
    "collapsed": true
   },
   "outputs": [],
   "source": []
  }
 ],
 "metadata": {
  "kernelspec": {
   "display_name": "Python 2",
   "language": "python",
   "name": "python2"
  },
  "language_info": {
   "codemirror_mode": {
    "name": "ipython",
    "version": 2
   },
   "file_extension": ".py",
   "mimetype": "text/x-python",
   "name": "python",
   "nbconvert_exporter": "python",
   "pygments_lexer": "ipython2",
   "version": "2.7.13"
  }
 },
 "nbformat": 4,
 "nbformat_minor": 2
}
